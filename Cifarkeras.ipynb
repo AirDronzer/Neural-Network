{
  "nbformat": 4,
  "nbformat_minor": 0,
  "metadata": {
    "colab": {
      "name": "Untitled0.ipynb",
      "provenance": [],
      "collapsed_sections": [],
      "authorship_tag": "ABX9TyOmvLf+w7g7YTXtQ3egDKex",
      "include_colab_link": true
    },
    "kernelspec": {
      "name": "python3",
      "display_name": "Python 3"
    },
    "accelerator": "TPU"
  },
  "cells": [
    {
      "cell_type": "markdown",
      "metadata": {
        "id": "view-in-github",
        "colab_type": "text"
      },
      "source": [
        "<a href=\"https://colab.research.google.com/github/AirDronzer/keras/blob/master/Cifarkeras.ipynb\" target=\"_parent\"><img src=\"https://colab.research.google.com/assets/colab-badge.svg\" alt=\"Open In Colab\"/></a>"
      ]
    },
    {
      "cell_type": "code",
      "metadata": {
        "id": "Z5NmLfp_imZB",
        "colab_type": "code",
        "colab": {
          "base_uri": "https://localhost:8080/",
          "height": 34
        },
        "outputId": "5258da95-2b97-423e-8ed2-5d01db85102d"
      },
      "source": [
        "\n",
        "import tensorflow as tf\n",
        "import numpy as np\n",
        "import keras\n",
        "from tensorflow.keras import backend\n",
        "from tensorflow.keras.preprocessing.image import array_to_img\n",
        "from tensorflow.keras.datasets import cifar10\n",
        "from IPython.display import display\n",
        "import matplotlib.pyplot as plt\n",
        "from tensorflow.keras.models import Sequential\n",
        "from tensorflow.keras.layers import Dense,Activation\n",
        "from tensorflow.python.framework import ops\n",
        "from tensorflow.keras.callbacks import TensorBoard\n"
      ],
      "execution_count": 2,
      "outputs": [
        {
          "output_type": "stream",
          "text": [
            "Using TensorFlow backend.\n"
          ],
          "name": "stderr"
        }
      ]
    },
    {
      "cell_type": "code",
      "metadata": {
        "id": "QkqPOUg7jlDw",
        "colab_type": "code",
        "colab": {
          "base_uri": "https://localhost:8080/",
          "height": 49
        },
        "outputId": "f1ccfb23-1a0a-43e4-c6ce-73bff4ea700c"
      },
      "source": [
        "(x_train,y_train),(x_test,y_test)=cifar10.load_data() \n",
        "label=['plane','car','bird','cat','deer','dog','frog','horse','ship','truck']\n",
        "dis=array_to_img(x_test[0])\n",
        "display(dis)\n",
        "img=x_test[0]"
      ],
      "execution_count": 20,
      "outputs": [
        {
          "output_type": "display_data",
          "data": {
            "image/png": "[encoded data removed]",
            "text/plain": [
              "<PIL.Image.Image image mode=RGB size=32x32 at 0x7FEE25CA85F8>"
            ]
          },
          "metadata": {
            "tags": []
          }
        }
      ]
    },
    {
      "cell_type": "code",
      "metadata": {
        "id": "qM7myMp8ldKk",
        "colab_type": "code",
        "colab": {}
      },
      "source": [
        "x_train,x_test=x_train/255.0,x_test/255.0"
      ],
      "execution_count": 0,
      "outputs": []
    },
    {
      "cell_type": "code",
      "metadata": {
        "id": "iBLjxF7TllDD",
        "colab_type": "code",
        "colab": {}
      },
      "source": [
        "x_train=x_train.reshape(x_train.shape[0],32*32*3)"
      ],
      "execution_count": 0,
      "outputs": []
    },
    {
      "cell_type": "markdown",
      "metadata": {
        "id": "HQh1KhTXr84P",
        "colab_type": "text"
      },
      "source": [
        "#Converting 4 row array into 2 row for both shown above\n"
      ]
    },
    {
      "cell_type": "code",
      "metadata": {
        "id": "-1pM9scpo3Cj",
        "colab_type": "code",
        "colab": {}
      },
      "source": [
        "x_test=x_test.reshape(len(x_test),32*32*3)"
      ],
      "execution_count": 0,
      "outputs": []
    },
    {
      "cell_type": "code",
      "metadata": {
        "id": "s4XWhn9Ush-u",
        "colab_type": "code",
        "colab": {}
      },
      "source": [
        ""
      ],
      "execution_count": 0,
      "outputs": []
    },
    {
      "cell_type": "markdown",
      "metadata": {
        "id": "KS_2fhqXs4eZ",
        "colab_type": "text"
      },
      "source": [
        "Creating Validation Data"
      ]
    },
    {
      "cell_type": "code",
      "metadata": {
        "id": "uub0Fh-Os9zf",
        "colab_type": "code",
        "colab": {}
      },
      "source": [
        "x_val=x_train[:1000]\n",
        "### Created 1000 images vaslidation\n",
        "y_val=y_train[:1000]"
      ],
      "execution_count": 0,
      "outputs": []
    },
    {
      "cell_type": "code",
      "metadata": {
        "id": "d2aQrRBPtLUH",
        "colab_type": "code",
        "colab": {}
      },
      "source": [
        ""
      ],
      "execution_count": 0,
      "outputs": []
    },
    {
      "cell_type": "code",
      "metadata": {
        "id": "02umkjH6tfBc",
        "colab_type": "code",
        "colab": {}
      },
      "source": [
        "### Defining our Neural Network\n",
        "model1=Sequential([\n",
        "                   Dense(units=128,input_dim=3072,activation='relu'),\n",
        "                   Dense(64,activation='relu'),\n",
        "                   Dense(16,activation='relu'),\n",
        "                   Dense(10,activation='softmax')\n",
        "])"
      ],
      "execution_count": 0,
      "outputs": []
    },
    {
      "cell_type": "code",
      "metadata": {
        "id": "HEgugQt4wRnj",
        "colab_type": "code",
        "colab": {
          "base_uri": "https://localhost:8080/",
          "height": 298
        },
        "outputId": "b079240c-50ec-4266-89f4-6f90f8da1001"
      },
      "source": [
        "model1.summary()"
      ],
      "execution_count": 9,
      "outputs": [
        {
          "output_type": "stream",
          "text": [
            "Model: \"sequential\"\n",
            "_________________________________________________________________\n",
            "Layer (type)                 Output Shape              Param #   \n",
            "=================================================================\n",
            "dense (Dense)                (None, 128)               393344    \n",
            "_________________________________________________________________\n",
            "dense_1 (Dense)              (None, 64)                8256      \n",
            "_________________________________________________________________\n",
            "dense_2 (Dense)              (None, 16)                1040      \n",
            "_________________________________________________________________\n",
            "dense_3 (Dense)              (None, 10)                170       \n",
            "=================================================================\n",
            "Total params: 402,810\n",
            "Trainable params: 402,810\n",
            "Non-trainable params: 0\n",
            "_________________________________________________________________\n"
          ],
          "name": "stdout"
        }
      ]
    },
    {
      "cell_type": "code",
      "metadata": {
        "id": "VKMgyOH8xwsm",
        "colab_type": "code",
        "colab": {}
      },
      "source": [
        "### TensorBoard\n",
        "####so SKipping for Nwow\n",
        "y_train.shape\n",
        "model1.compile(optimizer='adam',loss='sparse_categorical_crossentropy',metrics=['accuracy'])"
      ],
      "execution_count": 0,
      "outputs": []
    },
    {
      "cell_type": "code",
      "metadata": {
        "id": "Dy-MRjLHyaN2",
        "colab_type": "code",
        "colab": {
          "base_uri": "https://localhost:8080/",
          "height": 1000
        },
        "outputId": "f52dfa82-75ed-4dda-e275-89686238f84f"
      },
      "source": [
        "##fiting the model\n",
        "\n",
        "%%time\n",
        "\n",
        "model1.fit(x_train,y_train,batch_size=5000,epochs=150,validation_data=(x_val,y_val),validation_batch_size=1000)"
      ],
      "execution_count": 12,
      "outputs": [
        {
          "output_type": "stream",
          "text": [
            "Epoch 1/150\n",
            "10/10 [==============================] - 2s 192ms/step - loss: 1.3175 - accuracy: 0.5267 - val_loss: 1.2801 - val_accuracy: 0.5540\n",
            "Epoch 2/150\n",
            "10/10 [==============================] - 2s 178ms/step - loss: 1.3130 - accuracy: 0.5280 - val_loss: 1.2711 - val_accuracy: 0.5640\n",
            "Epoch 3/150\n",
            "10/10 [==============================] - 2s 180ms/step - loss: 1.3086 - accuracy: 0.5291 - val_loss: 1.2697 - val_accuracy: 0.5660\n",
            "Epoch 4/150\n",
            "10/10 [==============================] - 2s 179ms/step - loss: 1.3094 - accuracy: 0.5283 - val_loss: 1.2525 - val_accuracy: 0.5550\n",
            "Epoch 5/150\n",
            "10/10 [==============================] - 2s 179ms/step - loss: 1.3202 - accuracy: 0.5221 - val_loss: 1.2773 - val_accuracy: 0.5480\n",
            "Epoch 6/150\n",
            "10/10 [==============================] - 2s 179ms/step - loss: 1.3162 - accuracy: 0.5251 - val_loss: 1.2663 - val_accuracy: 0.5560\n",
            "Epoch 7/150\n",
            "10/10 [==============================] - 2s 179ms/step - loss: 1.3132 - accuracy: 0.5268 - val_loss: 1.2601 - val_accuracy: 0.5580\n",
            "Epoch 8/150\n",
            "10/10 [==============================] - 2s 181ms/step - loss: 1.3035 - accuracy: 0.5296 - val_loss: 1.2685 - val_accuracy: 0.5670\n",
            "Epoch 9/150\n",
            "10/10 [==============================] - 2s 179ms/step - loss: 1.3157 - accuracy: 0.5254 - val_loss: 1.2816 - val_accuracy: 0.5420\n",
            "Epoch 10/150\n",
            "10/10 [==============================] - 2s 178ms/step - loss: 1.3296 - accuracy: 0.5212 - val_loss: 1.2897 - val_accuracy: 0.5530\n",
            "Epoch 11/150\n",
            "10/10 [==============================] - 2s 177ms/step - loss: 1.3152 - accuracy: 0.5257 - val_loss: 1.2647 - val_accuracy: 0.5580\n",
            "Epoch 12/150\n",
            "10/10 [==============================] - 2s 177ms/step - loss: 1.2970 - accuracy: 0.5332 - val_loss: 1.2436 - val_accuracy: 0.5650\n",
            "Epoch 13/150\n",
            "10/10 [==============================] - 2s 177ms/step - loss: 1.2914 - accuracy: 0.5340 - val_loss: 1.2546 - val_accuracy: 0.5660\n",
            "Epoch 14/150\n",
            "10/10 [==============================] - 2s 181ms/step - loss: 1.2971 - accuracy: 0.5329 - val_loss: 1.2487 - val_accuracy: 0.5640\n",
            "Epoch 15/150\n",
            "10/10 [==============================] - 2s 179ms/step - loss: 1.2890 - accuracy: 0.5357 - val_loss: 1.2431 - val_accuracy: 0.5710\n",
            "Epoch 16/150\n",
            "10/10 [==============================] - 2s 178ms/step - loss: 1.2873 - accuracy: 0.5375 - val_loss: 1.2414 - val_accuracy: 0.5720\n",
            "Epoch 17/150\n",
            "10/10 [==============================] - 2s 177ms/step - loss: 1.3001 - accuracy: 0.5317 - val_loss: 1.2801 - val_accuracy: 0.5450\n",
            "Epoch 18/150\n",
            "10/10 [==============================] - 2s 175ms/step - loss: 1.3081 - accuracy: 0.5299 - val_loss: 1.2618 - val_accuracy: 0.5660\n",
            "Epoch 19/150\n",
            "10/10 [==============================] - 2s 179ms/step - loss: 1.2949 - accuracy: 0.5345 - val_loss: 1.2617 - val_accuracy: 0.5650\n",
            "Epoch 20/150\n",
            "10/10 [==============================] - 2s 180ms/step - loss: 1.2846 - accuracy: 0.5377 - val_loss: 1.2344 - val_accuracy: 0.5640\n",
            "Epoch 21/150\n",
            "10/10 [==============================] - 2s 179ms/step - loss: 1.2794 - accuracy: 0.5391 - val_loss: 1.2451 - val_accuracy: 0.5630\n",
            "Epoch 22/150\n",
            "10/10 [==============================] - 2s 178ms/step - loss: 1.2766 - accuracy: 0.5420 - val_loss: 1.2382 - val_accuracy: 0.5700\n",
            "Epoch 23/150\n",
            "10/10 [==============================] - 2s 179ms/step - loss: 1.2739 - accuracy: 0.5419 - val_loss: 1.2320 - val_accuracy: 0.5720\n",
            "Epoch 24/150\n",
            "10/10 [==============================] - 2s 182ms/step - loss: 1.2721 - accuracy: 0.5426 - val_loss: 1.2351 - val_accuracy: 0.5750\n",
            "Epoch 25/150\n",
            "10/10 [==============================] - 2s 180ms/step - loss: 1.2788 - accuracy: 0.5409 - val_loss: 1.2362 - val_accuracy: 0.5680\n",
            "Epoch 26/150\n",
            "10/10 [==============================] - 2s 178ms/step - loss: 1.2812 - accuracy: 0.5373 - val_loss: 1.2642 - val_accuracy: 0.5660\n",
            "Epoch 27/150\n",
            "10/10 [==============================] - 2s 178ms/step - loss: 1.2798 - accuracy: 0.5387 - val_loss: 1.2602 - val_accuracy: 0.5560\n",
            "Epoch 28/150\n",
            "10/10 [==============================] - 2s 179ms/step - loss: 1.2800 - accuracy: 0.5411 - val_loss: 1.2378 - val_accuracy: 0.5750\n",
            "Epoch 29/150\n",
            "10/10 [==============================] - 2s 178ms/step - loss: 1.2748 - accuracy: 0.5397 - val_loss: 1.2386 - val_accuracy: 0.5670\n",
            "Epoch 30/150\n",
            "10/10 [==============================] - 2s 181ms/step - loss: 1.2720 - accuracy: 0.5430 - val_loss: 1.2358 - val_accuracy: 0.5530\n",
            "Epoch 31/150\n",
            "10/10 [==============================] - 2s 178ms/step - loss: 1.2863 - accuracy: 0.5374 - val_loss: 1.2666 - val_accuracy: 0.5420\n",
            "Epoch 32/150\n",
            "10/10 [==============================] - 2s 177ms/step - loss: 1.3079 - accuracy: 0.5275 - val_loss: 1.2789 - val_accuracy: 0.5580\n",
            "Epoch 33/150\n",
            "10/10 [==============================] - 2s 180ms/step - loss: 1.2873 - accuracy: 0.5377 - val_loss: 1.2211 - val_accuracy: 0.5710\n",
            "Epoch 34/150\n",
            "10/10 [==============================] - 2s 178ms/step - loss: 1.2643 - accuracy: 0.5447 - val_loss: 1.2150 - val_accuracy: 0.5760\n",
            "Epoch 35/150\n",
            "10/10 [==============================] - 2s 181ms/step - loss: 1.2673 - accuracy: 0.5434 - val_loss: 1.2123 - val_accuracy: 0.5750\n",
            "Epoch 36/150\n",
            "10/10 [==============================] - 2s 178ms/step - loss: 1.2762 - accuracy: 0.5411 - val_loss: 1.2352 - val_accuracy: 0.5690\n",
            "Epoch 37/150\n",
            "10/10 [==============================] - 2s 179ms/step - loss: 1.2617 - accuracy: 0.5450 - val_loss: 1.2141 - val_accuracy: 0.5770\n",
            "Epoch 38/150\n",
            "10/10 [==============================] - 2s 180ms/step - loss: 1.2532 - accuracy: 0.5494 - val_loss: 1.2044 - val_accuracy: 0.5650\n",
            "Epoch 39/150\n",
            "10/10 [==============================] - 2s 181ms/step - loss: 1.2567 - accuracy: 0.5467 - val_loss: 1.2039 - val_accuracy: 0.5790\n",
            "Epoch 40/150\n",
            "10/10 [==============================] - 2s 184ms/step - loss: 1.2556 - accuracy: 0.5489 - val_loss: 1.2273 - val_accuracy: 0.5820\n",
            "Epoch 41/150\n",
            "10/10 [==============================] - 2s 180ms/step - loss: 1.2609 - accuracy: 0.5471 - val_loss: 1.2234 - val_accuracy: 0.5740\n",
            "Epoch 42/150\n",
            "10/10 [==============================] - 2s 178ms/step - loss: 1.2622 - accuracy: 0.5454 - val_loss: 1.2083 - val_accuracy: 0.5760\n",
            "Epoch 43/150\n",
            "10/10 [==============================] - 2s 178ms/step - loss: 1.2491 - accuracy: 0.5499 - val_loss: 1.2079 - val_accuracy: 0.5790\n",
            "Epoch 44/150\n",
            "10/10 [==============================] - 2s 178ms/step - loss: 1.2524 - accuracy: 0.5485 - val_loss: 1.2052 - val_accuracy: 0.5860\n",
            "Epoch 45/150\n",
            "10/10 [==============================] - 2s 178ms/step - loss: 1.2442 - accuracy: 0.5511 - val_loss: 1.1960 - val_accuracy: 0.5760\n",
            "Epoch 46/150\n",
            "10/10 [==============================] - 2s 178ms/step - loss: 1.2388 - accuracy: 0.5551 - val_loss: 1.2063 - val_accuracy: 0.5750\n",
            "Epoch 47/150\n",
            "10/10 [==============================] - 2s 178ms/step - loss: 1.2377 - accuracy: 0.5559 - val_loss: 1.1992 - val_accuracy: 0.5830\n",
            "Epoch 48/150\n",
            "10/10 [==============================] - 2s 178ms/step - loss: 1.2472 - accuracy: 0.5527 - val_loss: 1.2071 - val_accuracy: 0.5730\n",
            "Epoch 49/150\n",
            "10/10 [==============================] - 2s 177ms/step - loss: 1.2505 - accuracy: 0.5497 - val_loss: 1.2057 - val_accuracy: 0.5740\n",
            "Epoch 50/150\n",
            "10/10 [==============================] - 2s 178ms/step - loss: 1.2860 - accuracy: 0.5359 - val_loss: 1.2385 - val_accuracy: 0.5690\n",
            "Epoch 51/150\n",
            "10/10 [==============================] - 2s 180ms/step - loss: 1.2611 - accuracy: 0.5468 - val_loss: 1.2217 - val_accuracy: 0.5630\n",
            "Epoch 52/150\n",
            "10/10 [==============================] - 2s 178ms/step - loss: 1.2568 - accuracy: 0.5453 - val_loss: 1.2165 - val_accuracy: 0.5690\n",
            "Epoch 53/150\n",
            "10/10 [==============================] - 2s 179ms/step - loss: 1.2353 - accuracy: 0.5576 - val_loss: 1.1809 - val_accuracy: 0.5880\n",
            "Epoch 54/150\n",
            "10/10 [==============================] - 2s 180ms/step - loss: 1.2312 - accuracy: 0.5581 - val_loss: 1.1946 - val_accuracy: 0.5890\n",
            "Epoch 55/150\n",
            "10/10 [==============================] - 2s 179ms/step - loss: 1.2427 - accuracy: 0.5527 - val_loss: 1.2036 - val_accuracy: 0.5810\n",
            "Epoch 56/150\n",
            "10/10 [==============================] - 2s 179ms/step - loss: 1.2343 - accuracy: 0.5575 - val_loss: 1.1990 - val_accuracy: 0.5660\n",
            "Epoch 57/150\n",
            "10/10 [==============================] - 2s 178ms/step - loss: 1.2334 - accuracy: 0.5555 - val_loss: 1.1782 - val_accuracy: 0.5880\n",
            "Epoch 58/150\n",
            "10/10 [==============================] - 2s 177ms/step - loss: 1.2264 - accuracy: 0.5593 - val_loss: 1.1814 - val_accuracy: 0.5780\n",
            "Epoch 59/150\n",
            "10/10 [==============================] - 2s 177ms/step - loss: 1.2226 - accuracy: 0.5591 - val_loss: 1.1733 - val_accuracy: 0.5910\n",
            "Epoch 60/150\n",
            "10/10 [==============================] - 2s 179ms/step - loss: 1.2263 - accuracy: 0.5609 - val_loss: 1.1757 - val_accuracy: 0.5850\n",
            "Epoch 61/150\n",
            "10/10 [==============================] - 2s 178ms/step - loss: 1.2215 - accuracy: 0.5607 - val_loss: 1.1793 - val_accuracy: 0.5830\n",
            "Epoch 62/150\n",
            "10/10 [==============================] - 2s 180ms/step - loss: 1.2201 - accuracy: 0.5613 - val_loss: 1.1879 - val_accuracy: 0.5770\n",
            "Epoch 63/150\n",
            "10/10 [==============================] - 2s 178ms/step - loss: 1.2232 - accuracy: 0.5610 - val_loss: 1.1704 - val_accuracy: 0.5870\n",
            "Epoch 64/150\n",
            "10/10 [==============================] - 2s 176ms/step - loss: 1.2259 - accuracy: 0.5592 - val_loss: 1.1845 - val_accuracy: 0.5780\n",
            "Epoch 65/150\n",
            "10/10 [==============================] - 2s 179ms/step - loss: 1.2213 - accuracy: 0.5622 - val_loss: 1.1778 - val_accuracy: 0.5730\n",
            "Epoch 66/150\n",
            "10/10 [==============================] - 2s 176ms/step - loss: 1.2170 - accuracy: 0.5634 - val_loss: 1.1777 - val_accuracy: 0.5930\n",
            "Epoch 67/150\n",
            "10/10 [==============================] - 2s 180ms/step - loss: 1.2137 - accuracy: 0.5636 - val_loss: 1.1790 - val_accuracy: 0.5860\n",
            "Epoch 68/150\n",
            "10/10 [==============================] - 2s 178ms/step - loss: 1.2227 - accuracy: 0.5604 - val_loss: 1.2078 - val_accuracy: 0.5760\n",
            "Epoch 69/150\n",
            "10/10 [==============================] - 2s 178ms/step - loss: 1.2251 - accuracy: 0.5587 - val_loss: 1.1788 - val_accuracy: 0.5770\n",
            "Epoch 70/150\n",
            "10/10 [==============================] - 2s 178ms/step - loss: 1.2117 - accuracy: 0.5638 - val_loss: 1.1694 - val_accuracy: 0.5910\n",
            "Epoch 71/150\n",
            "10/10 [==============================] - 2s 178ms/step - loss: 1.2140 - accuracy: 0.5639 - val_loss: 1.1754 - val_accuracy: 0.5850\n",
            "Epoch 72/150\n",
            "10/10 [==============================] - 2s 180ms/step - loss: 1.2130 - accuracy: 0.5637 - val_loss: 1.1885 - val_accuracy: 0.5840\n",
            "Epoch 73/150\n",
            "10/10 [==============================] - 2s 179ms/step - loss: 1.2127 - accuracy: 0.5635 - val_loss: 1.1597 - val_accuracy: 0.5830\n",
            "Epoch 74/150\n",
            "10/10 [==============================] - 2s 178ms/step - loss: 1.2061 - accuracy: 0.5654 - val_loss: 1.1802 - val_accuracy: 0.5780\n",
            "Epoch 75/150\n",
            "10/10 [==============================] - 2s 179ms/step - loss: 1.2082 - accuracy: 0.5653 - val_loss: 1.1726 - val_accuracy: 0.5820\n",
            "Epoch 76/150\n",
            "10/10 [==============================] - 2s 179ms/step - loss: 1.2111 - accuracy: 0.5633 - val_loss: 1.1502 - val_accuracy: 0.5890\n",
            "Epoch 77/150\n",
            "10/10 [==============================] - 2s 178ms/step - loss: 1.2023 - accuracy: 0.5679 - val_loss: 1.1574 - val_accuracy: 0.5870\n",
            "Epoch 78/150\n",
            "10/10 [==============================] - 2s 179ms/step - loss: 1.2096 - accuracy: 0.5653 - val_loss: 1.1819 - val_accuracy: 0.5730\n",
            "Epoch 79/150\n",
            "10/10 [==============================] - 2s 178ms/step - loss: 1.2176 - accuracy: 0.5605 - val_loss: 1.1855 - val_accuracy: 0.5760\n",
            "Epoch 80/150\n",
            "10/10 [==============================] - 2s 179ms/step - loss: 1.2132 - accuracy: 0.5618 - val_loss: 1.1614 - val_accuracy: 0.5910\n",
            "Epoch 81/150\n",
            "10/10 [==============================] - 2s 180ms/step - loss: 1.1982 - accuracy: 0.5700 - val_loss: 1.1707 - val_accuracy: 0.5750\n",
            "Epoch 82/150\n",
            "10/10 [==============================] - 2s 180ms/step - loss: 1.2018 - accuracy: 0.5673 - val_loss: 1.1846 - val_accuracy: 0.5840\n",
            "Epoch 83/150\n",
            "10/10 [==============================] - 2s 181ms/step - loss: 1.2039 - accuracy: 0.5665 - val_loss: 1.1767 - val_accuracy: 0.5810\n",
            "Epoch 84/150\n",
            "10/10 [==============================] - 2s 179ms/step - loss: 1.2027 - accuracy: 0.5694 - val_loss: 1.1586 - val_accuracy: 0.5830\n",
            "Epoch 85/150\n",
            "10/10 [==============================] - 2s 179ms/step - loss: 1.1969 - accuracy: 0.5697 - val_loss: 1.1471 - val_accuracy: 0.5910\n",
            "Epoch 86/150\n",
            "10/10 [==============================] - 2s 177ms/step - loss: 1.2007 - accuracy: 0.5681 - val_loss: 1.1621 - val_accuracy: 0.5840\n",
            "Epoch 87/150\n",
            "10/10 [==============================] - 2s 178ms/step - loss: 1.2078 - accuracy: 0.5647 - val_loss: 1.1382 - val_accuracy: 0.5980\n",
            "Epoch 88/150\n",
            "10/10 [==============================] - 2s 181ms/step - loss: 1.1951 - accuracy: 0.5715 - val_loss: 1.1366 - val_accuracy: 0.5920\n",
            "Epoch 89/150\n",
            "10/10 [==============================] - 2s 178ms/step - loss: 1.1919 - accuracy: 0.5717 - val_loss: 1.1478 - val_accuracy: 0.5860\n",
            "Epoch 90/150\n",
            "10/10 [==============================] - 2s 178ms/step - loss: 1.2074 - accuracy: 0.5654 - val_loss: 1.1688 - val_accuracy: 0.5910\n",
            "Epoch 91/150\n",
            "10/10 [==============================] - 2s 180ms/step - loss: 1.2199 - accuracy: 0.5617 - val_loss: 1.1737 - val_accuracy: 0.5880\n",
            "Epoch 92/150\n",
            "10/10 [==============================] - 2s 178ms/step - loss: 1.2427 - accuracy: 0.5538 - val_loss: 1.1660 - val_accuracy: 0.5830\n",
            "Epoch 93/150\n",
            "10/10 [==============================] - 2s 180ms/step - loss: 1.2341 - accuracy: 0.5559 - val_loss: 1.1773 - val_accuracy: 0.5770\n",
            "Epoch 94/150\n",
            "10/10 [==============================] - 2s 178ms/step - loss: 1.1995 - accuracy: 0.5678 - val_loss: 1.1559 - val_accuracy: 0.5950\n",
            "Epoch 95/150\n",
            "10/10 [==============================] - 2s 179ms/step - loss: 1.1876 - accuracy: 0.5730 - val_loss: 1.1338 - val_accuracy: 0.5880\n",
            "Epoch 96/150\n",
            "10/10 [==============================] - 2s 183ms/step - loss: 1.1839 - accuracy: 0.5747 - val_loss: 1.1412 - val_accuracy: 0.5960\n",
            "Epoch 97/150\n",
            "10/10 [==============================] - 2s 181ms/step - loss: 1.1812 - accuracy: 0.5745 - val_loss: 1.1286 - val_accuracy: 0.5990\n",
            "Epoch 98/150\n",
            "10/10 [==============================] - 2s 183ms/step - loss: 1.1843 - accuracy: 0.5730 - val_loss: 1.1495 - val_accuracy: 0.5950\n",
            "Epoch 99/150\n",
            "10/10 [==============================] - 2s 182ms/step - loss: 1.1863 - accuracy: 0.5732 - val_loss: 1.1371 - val_accuracy: 0.5880\n",
            "Epoch 100/150\n",
            "10/10 [==============================] - 2s 180ms/step - loss: 1.1817 - accuracy: 0.5758 - val_loss: 1.1575 - val_accuracy: 0.5790\n",
            "Epoch 101/150\n",
            "10/10 [==============================] - 2s 178ms/step - loss: 1.1851 - accuracy: 0.5727 - val_loss: 1.1462 - val_accuracy: 0.5910\n",
            "Epoch 102/150\n",
            "10/10 [==============================] - 2s 178ms/step - loss: 1.1842 - accuracy: 0.5725 - val_loss: 1.1292 - val_accuracy: 0.5900\n",
            "Epoch 103/150\n",
            "10/10 [==============================] - 2s 179ms/step - loss: 1.1753 - accuracy: 0.5775 - val_loss: 1.1436 - val_accuracy: 0.6080\n",
            "Epoch 104/150\n",
            "10/10 [==============================] - 2s 181ms/step - loss: 1.1819 - accuracy: 0.5750 - val_loss: 1.1598 - val_accuracy: 0.5850\n",
            "Epoch 105/150\n",
            "10/10 [==============================] - 2s 180ms/step - loss: 1.1880 - accuracy: 0.5711 - val_loss: 1.1537 - val_accuracy: 0.5950\n",
            "Epoch 106/150\n",
            "10/10 [==============================] - 2s 179ms/step - loss: 1.2150 - accuracy: 0.5617 - val_loss: 1.1613 - val_accuracy: 0.5780\n",
            "Epoch 107/150\n",
            "10/10 [==============================] - 2s 180ms/step - loss: 1.1867 - accuracy: 0.5743 - val_loss: 1.1464 - val_accuracy: 0.5930\n",
            "Epoch 108/150\n",
            "10/10 [==============================] - 2s 179ms/step - loss: 1.1696 - accuracy: 0.5804 - val_loss: 1.1244 - val_accuracy: 0.5920\n",
            "Epoch 109/150\n",
            "10/10 [==============================] - 2s 182ms/step - loss: 1.1674 - accuracy: 0.5800 - val_loss: 1.1233 - val_accuracy: 0.6020\n",
            "Epoch 110/150\n",
            "10/10 [==============================] - 2s 179ms/step - loss: 1.1679 - accuracy: 0.5804 - val_loss: 1.1138 - val_accuracy: 0.6110\n",
            "Epoch 111/150\n",
            "10/10 [==============================] - 2s 180ms/step - loss: 1.1686 - accuracy: 0.5813 - val_loss: 1.1196 - val_accuracy: 0.6050\n",
            "Epoch 112/150\n",
            "10/10 [==============================] - 2s 181ms/step - loss: 1.1602 - accuracy: 0.5822 - val_loss: 1.1492 - val_accuracy: 0.5990\n",
            "Epoch 113/150\n",
            "10/10 [==============================] - 2s 178ms/step - loss: 1.1919 - accuracy: 0.5715 - val_loss: 1.1284 - val_accuracy: 0.5940\n",
            "Epoch 114/150\n",
            "10/10 [==============================] - 2s 181ms/step - loss: 1.1758 - accuracy: 0.5744 - val_loss: 1.1252 - val_accuracy: 0.5990\n",
            "Epoch 115/150\n",
            "10/10 [==============================] - 2s 179ms/step - loss: 1.1697 - accuracy: 0.5811 - val_loss: 1.1148 - val_accuracy: 0.6060\n",
            "Epoch 116/150\n",
            "10/10 [==============================] - 2s 177ms/step - loss: 1.1776 - accuracy: 0.5756 - val_loss: 1.1437 - val_accuracy: 0.5920\n",
            "Epoch 117/150\n",
            "10/10 [==============================] - 2s 181ms/step - loss: 1.1608 - accuracy: 0.5829 - val_loss: 1.1230 - val_accuracy: 0.6030\n",
            "Epoch 118/150\n",
            "10/10 [==============================] - 2s 179ms/step - loss: 1.1553 - accuracy: 0.5849 - val_loss: 1.1208 - val_accuracy: 0.6040\n",
            "Epoch 119/150\n",
            "10/10 [==============================] - 2s 180ms/step - loss: 1.1595 - accuracy: 0.5807 - val_loss: 1.1281 - val_accuracy: 0.6010\n",
            "Epoch 120/150\n",
            "10/10 [==============================] - 2s 178ms/step - loss: 1.1601 - accuracy: 0.5822 - val_loss: 1.1473 - val_accuracy: 0.5910\n",
            "Epoch 121/150\n",
            "10/10 [==============================] - 2s 179ms/step - loss: 1.1787 - accuracy: 0.5764 - val_loss: 1.1103 - val_accuracy: 0.6200\n",
            "Epoch 122/150\n",
            "10/10 [==============================] - 2s 179ms/step - loss: 1.1655 - accuracy: 0.5819 - val_loss: 1.1169 - val_accuracy: 0.5910\n",
            "Epoch 123/150\n",
            "10/10 [==============================] - 2s 179ms/step - loss: 1.1639 - accuracy: 0.5809 - val_loss: 1.0977 - val_accuracy: 0.6120\n",
            "Epoch 124/150\n",
            "10/10 [==============================] - 2s 179ms/step - loss: 1.1552 - accuracy: 0.5848 - val_loss: 1.1120 - val_accuracy: 0.6100\n",
            "Epoch 125/150\n",
            "10/10 [==============================] - 2s 180ms/step - loss: 1.1593 - accuracy: 0.5823 - val_loss: 1.0990 - val_accuracy: 0.6120\n",
            "Epoch 126/150\n",
            "10/10 [==============================] - 2s 180ms/step - loss: 1.1517 - accuracy: 0.5861 - val_loss: 1.1185 - val_accuracy: 0.5930\n",
            "Epoch 127/150\n",
            "10/10 [==============================] - 2s 183ms/step - loss: 1.1590 - accuracy: 0.5820 - val_loss: 1.1134 - val_accuracy: 0.5910\n",
            "Epoch 128/150\n",
            "10/10 [==============================] - 2s 180ms/step - loss: 1.1578 - accuracy: 0.5832 - val_loss: 1.1572 - val_accuracy: 0.5960\n",
            "Epoch 129/150\n",
            "10/10 [==============================] - 2s 178ms/step - loss: 1.1590 - accuracy: 0.5842 - val_loss: 1.1425 - val_accuracy: 0.6010\n",
            "Epoch 130/150\n",
            "10/10 [==============================] - 2s 182ms/step - loss: 1.1779 - accuracy: 0.5776 - val_loss: 1.1453 - val_accuracy: 0.5930\n",
            "Epoch 131/150\n",
            "10/10 [==============================] - 2s 178ms/step - loss: 1.1639 - accuracy: 0.5807 - val_loss: 1.1088 - val_accuracy: 0.6080\n",
            "Epoch 132/150\n",
            "10/10 [==============================] - 2s 179ms/step - loss: 1.1494 - accuracy: 0.5866 - val_loss: 1.1068 - val_accuracy: 0.6170\n",
            "Epoch 133/150\n",
            "10/10 [==============================] - 2s 179ms/step - loss: 1.1515 - accuracy: 0.5866 - val_loss: 1.0924 - val_accuracy: 0.6110\n",
            "Epoch 134/150\n",
            "10/10 [==============================] - 2s 177ms/step - loss: 1.1587 - accuracy: 0.5834 - val_loss: 1.1196 - val_accuracy: 0.5890\n",
            "Epoch 135/150\n",
            "10/10 [==============================] - 2s 179ms/step - loss: 1.1546 - accuracy: 0.5846 - val_loss: 1.1065 - val_accuracy: 0.6090\n",
            "Epoch 136/150\n",
            "10/10 [==============================] - 2s 177ms/step - loss: 1.1512 - accuracy: 0.5856 - val_loss: 1.1145 - val_accuracy: 0.6050\n",
            "Epoch 137/150\n",
            "10/10 [==============================] - 2s 178ms/step - loss: 1.1495 - accuracy: 0.5861 - val_loss: 1.0921 - val_accuracy: 0.6130\n",
            "Epoch 138/150\n",
            "10/10 [==============================] - 2s 178ms/step - loss: 1.1370 - accuracy: 0.5917 - val_loss: 1.1027 - val_accuracy: 0.6180\n",
            "Epoch 139/150\n",
            "10/10 [==============================] - 2s 178ms/step - loss: 1.1441 - accuracy: 0.5873 - val_loss: 1.1002 - val_accuracy: 0.5920\n",
            "Epoch 140/150\n",
            "10/10 [==============================] - 2s 178ms/step - loss: 1.1383 - accuracy: 0.5889 - val_loss: 1.1215 - val_accuracy: 0.6000\n",
            "Epoch 141/150\n",
            "10/10 [==============================] - 2s 246ms/step - loss: 1.1559 - accuracy: 0.5835 - val_loss: 1.0920 - val_accuracy: 0.6010\n",
            "Epoch 142/150\n",
            "10/10 [==============================] - 3s 305ms/step - loss: 1.1462 - accuracy: 0.5879 - val_loss: 1.0785 - val_accuracy: 0.6240\n",
            "Epoch 143/150\n",
            "10/10 [==============================] - 2s 219ms/step - loss: 1.1419 - accuracy: 0.5893 - val_loss: 1.1032 - val_accuracy: 0.6120\n",
            "Epoch 144/150\n",
            "10/10 [==============================] - 2s 185ms/step - loss: 1.1480 - accuracy: 0.5868 - val_loss: 1.0977 - val_accuracy: 0.6060\n",
            "Epoch 145/150\n",
            "10/10 [==============================] - 2s 179ms/step - loss: 1.1338 - accuracy: 0.5927 - val_loss: 1.0884 - val_accuracy: 0.6130\n",
            "Epoch 146/150\n",
            "10/10 [==============================] - 2s 180ms/step - loss: 1.1301 - accuracy: 0.5937 - val_loss: 1.0879 - val_accuracy: 0.6090\n",
            "Epoch 147/150\n",
            "10/10 [==============================] - 2s 181ms/step - loss: 1.1345 - accuracy: 0.5941 - val_loss: 1.0742 - val_accuracy: 0.6320\n",
            "Epoch 148/150\n",
            "10/10 [==============================] - 2s 180ms/step - loss: 1.1301 - accuracy: 0.5938 - val_loss: 1.1029 - val_accuracy: 0.6080\n",
            "Epoch 149/150\n",
            "10/10 [==============================] - 2s 178ms/step - loss: 1.1369 - accuracy: 0.5908 - val_loss: 1.0784 - val_accuracy: 0.6240\n",
            "Epoch 150/150\n",
            "10/10 [==============================] - 2s 179ms/step - loss: 1.1326 - accuracy: 0.5912 - val_loss: 1.0889 - val_accuracy: 0.6000\n",
            "CPU times: user 9min 16s, sys: 3.88 s, total: 9min 20s\n",
            "Wall time: 5min 1s\n"
          ],
          "name": "stdout"
        },
        {
          "output_type": "execute_result",
          "data": {
            "text/plain": [
              "<tensorflow.python.keras.callbacks.History at 0x7fee27557e48>"
            ]
          },
          "metadata": {
            "tags": []
          },
          "execution_count": 12
        }
      ]
    },
    {
      "cell_type": "code",
      "metadata": {
        "id": "ntIzCgZ-zCl5",
        "colab_type": "code",
        "colab": {
          "base_uri": "https://localhost:8080/",
          "height": 52
        },
        "outputId": "ae8536dc-271d-4196-f899-7c78a7bf004b"
      },
      "source": [
        "test =np.expand_dims(x_val[0],axis=0)\n",
        "\n",
        "np.set_printoptions(precision=3)\n",
        "model1.predict(test)"
      ],
      "execution_count": 27,
      "outputs": [
        {
          "output_type": "execute_result",
          "data": {
            "text/plain": [
              "array([[1.176e-02, 1.541e-02, 2.085e-02, 4.928e-02, 2.124e-02, 1.587e-02,\n",
              "        8.557e-01, 4.462e-03, 6.303e-04, 4.756e-03]], dtype=float32)"
            ]
          },
          "metadata": {
            "tags": []
          },
          "execution_count": 27
        }
      ]
    },
    {
      "cell_type": "code",
      "metadata": {
        "id": "pnws17jJ8tZQ",
        "colab_type": "code",
        "colab": {
          "base_uri": "https://localhost:8080/",
          "height": 107
        },
        "outputId": "c4b5ef7f-7851-4ea6-c77b-0e34e3a01a59"
      },
      "source": [
        "model1.predict_classes(test)"
      ],
      "execution_count": 28,
      "outputs": [
        {
          "output_type": "stream",
          "text": [
            "WARNING:tensorflow:From <ipython-input-28-f2346a0609f6>:1: Sequential.predict_classes (from tensorflow.python.keras.engine.sequential) is deprecated and will be removed after 2021-01-01.\n",
            "Instructions for updating:\n",
            "Please use instead:* `np.argmax(model.predict(x), axis=-1)`,   if your model does multi-class classification   (e.g. if it uses a `softmax` last-layer activation).* `(model.predict(x) > 0.5).astype(\"int32\")`,   if your model does binary classification   (e.g. if it uses a `sigmoid` last-layer activation).\n"
          ],
          "name": "stdout"
        },
        {
          "output_type": "execute_result",
          "data": {
            "text/plain": [
              "array([6])"
            ]
          },
          "metadata": {
            "tags": []
          },
          "execution_count": 28
        }
      ]
    },
    {
      "cell_type": "code",
      "metadata": {
        "id": "2Z1da7ZSAXtk",
        "colab_type": "code",
        "colab": {
          "base_uri": "https://localhost:8080/",
          "height": 193
        },
        "outputId": "3e022424-e57a-4524-9ba5-67368a69dd33"
      },
      "source": [
        "for num in range(10):\n",
        "  test_img =np.expand_dims(x_val[num],axis=0)\n",
        "  predict_val=model1.predict_classes(test_img)[0]\n",
        "  print(f'Actual Val{y_val[num]} vs Predicted val{predict_val}')\n"
      ],
      "execution_count": 29,
      "outputs": [
        {
          "output_type": "stream",
          "text": [
            "Actual Val[6] vs Predicted val6\n",
            "Actual Val[9] vs Predicted val9\n",
            "Actual Val[9] vs Predicted val9\n",
            "Actual Val[4] vs Predicted val4\n",
            "Actual Val[1] vs Predicted val1\n",
            "Actual Val[1] vs Predicted val1\n",
            "Actual Val[2] vs Predicted val2\n",
            "Actual Val[7] vs Predicted val7\n",
            "Actual Val[8] vs Predicted val8\n",
            "Actual Val[3] vs Predicted val7\n"
          ],
          "name": "stdout"
        }
      ]
    },
    {
      "cell_type": "code",
      "metadata": {
        "id": "lPGyi9_ABkjT",
        "colab_type": "code",
        "colab": {}
      },
      "source": [
        ""
      ],
      "execution_count": 0,
      "outputs": []
    }
  ]
}