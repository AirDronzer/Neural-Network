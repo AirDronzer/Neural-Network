{
  "nbformat": 4,
  "nbformat_minor": 0,
  "metadata": {
    "kernelspec": {
      "display_name": "Python 3",
      "language": "python",
      "name": "python3"
    },
    "language_info": {
      "codemirror_mode": {
        "name": "ipython",
        "version": 3
      },
      "file_extension": ".py",
      "mimetype": "text/x-python",
      "name": "python",
      "nbconvert_exporter": "python",
      "pygments_lexer": "ipython3",
      "version": "3.7.7"
    },
    "colab": {
      "name": "Handwritten 10 NN.ipynb",
      "provenance": [],
      "include_colab_link": true
    }
  },
  "cells": [
    {
      "cell_type": "markdown",
      "metadata": {
        "id": "view-in-github",
        "colab_type": "text"
      },
      "source": [
        "<a href=\"https://colab.research.google.com/github/AirDronzer/keras/blob/master/Handwritten_10_NN.ipynb\" target=\"_parent\"><img src=\"https://colab.research.google.com/assets/colab-badge.svg\" alt=\"Open In Colab\"/></a>"
      ]
    },
    {
      "cell_type": "code",
      "metadata": {
        "id": "c1TFlDnXjdi7",
        "colab_type": "code",
        "colab": {}
      },
      "source": [
        "#import"
      ],
      "execution_count": 0,
      "outputs": []
    },
    {
      "cell_type": "code",
      "metadata": {
        "id": "ZNdLrgtAjdjF",
        "colab_type": "code",
        "colab": {}
      },
      "source": [
        "import os\n",
        "import tensorflow as tf\n",
        "import numpy as np\n",
        "from PIL import Image\n",
        "\n"
      ],
      "execution_count": 0,
      "outputs": []
    },
    {
      "cell_type": "code",
      "metadata": {
        "id": "Ki1OL7dtjdjM",
        "colab_type": "code",
        "colab": {}
      },
      "source": [
        "# Taking MNIST Data Set for Pratice\n",
        "x='digit_xtrain.csv'\n",
        "y='digit_ytrain.csv'\n",
        "x1='digit_xtest.csv'\n",
        "y1='digit_ytest.csv'\n"
      ],
      "execution_count": 0,
      "outputs": []
    },
    {
      "cell_type": "code",
      "metadata": {
        "id": "BfdCqI9djdjS",
        "colab_type": "code",
        "colab": {}
      },
      "source": [
        "# Reading Data"
      ],
      "execution_count": 0,
      "outputs": []
    },
    {
      "cell_type": "code",
      "metadata": {
        "id": "N23AHW6XjdjZ",
        "colab_type": "code",
        "colab": {},
        "outputId": "fec401ea-94db-4b8a-9b4a-6990b6783b9b"
      },
      "source": [
        "%%time\n",
        "xtrain=np.loadtxt(x,dtype=int,delimiter=',')\n",
        "ytrain=np.loadtxt(y,dtype=int,delimiter=',')\n",
        "xtest=np.loadtxt(x1,dtype=int,delimiter=',')\n",
        "ytest=np.loadtxt(y1,dtype=int,delimiter=',')\n"
      ],
      "execution_count": 0,
      "outputs": [
        {
          "output_type": "stream",
          "text": [
            "Wall time: 1min 18s\n"
          ],
          "name": "stdout"
        }
      ]
    },
    {
      "cell_type": "code",
      "metadata": {
        "id": "SJsr1_XLjdjh",
        "colab_type": "code",
        "colab": {},
        "outputId": "3b46d5bd-2712-4f67-d2cf-d45e7675044a"
      },
      "source": [
        "xtrain.shape"
      ],
      "execution_count": 0,
      "outputs": [
        {
          "output_type": "execute_result",
          "data": {
            "text/plain": [
              "(60000, 784)"
            ]
          },
          "metadata": {
            "tags": []
          },
          "execution_count": 6
        }
      ]
    },
    {
      "cell_type": "code",
      "metadata": {
        "id": "lT2oLhLTjdjo",
        "colab_type": "code",
        "colab": {}
      },
      "source": [
        "#Transforming Data\n",
        "xtrain = xtrain/255\n",
        "xtest= xtrain/255"
      ],
      "execution_count": 0,
      "outputs": []
    },
    {
      "cell_type": "code",
      "metadata": {
        "id": "EkYsTyfMjdju",
        "colab_type": "code",
        "colab": {}
      },
      "source": [
        "ytrain=np.eye(10)[ytrain]\n"
      ],
      "execution_count": 0,
      "outputs": []
    },
    {
      "cell_type": "code",
      "metadata": {
        "id": "fcWZ7cX2jdj0",
        "colab_type": "code",
        "colab": {}
      },
      "source": [
        "#Creating Validation Data Set\n",
        "xval=xtrain[:10000]\n",
        "yval=ytrain[:10000]\n",
        "xtrain=xtrain[10000:]\n",
        "ytrain=ytrain[10000:]"
      ],
      "execution_count": 0,
      "outputs": []
    },
    {
      "cell_type": "code",
      "metadata": {
        "id": "tmOO2XNxjdj7",
        "colab_type": "code",
        "colab": {}
      },
      "source": [
        "#Setting the graph using tensor placeholder\n",
        "pl1=tf.placeholder(tf.float32,shape=(None,784))\n",
        "pl2=tf.placeholder(tf.float32,shape=(None,10))"
      ],
      "execution_count": 0,
      "outputs": []
    },
    {
      "cell_type": "code",
      "metadata": {
        "id": "OzNJaEirjdkA",
        "colab_type": "code",
        "colab": {}
      },
      "source": [
        "#Nueral Networks \n",
        "int_w1 = tf.truncated_normal(shape=(784,512),stddev=0.1)\n",
        "w1=tf.Variable(int_w1)\n",
        "int_b1= tf.constant(shape=[512],value=0.0)\n",
        "b1=tf.Variable(int_b1)\n",
        "layer1_in=tf.matmul(pl1,w1)+b1\n",
        "layer1_out=tf.nn.relu(layer1_in)\n",
        "# Created First Layer of 512 nodes"
      ],
      "execution_count": 0,
      "outputs": []
    },
    {
      "cell_type": "code",
      "metadata": {
        "id": "yIThy1rgjdkH",
        "colab_type": "code",
        "colab": {}
      },
      "source": [
        "#Creating Second Layer\n",
        "int_w2 = tf.truncated_normal(shape=(512,64),stddev=0.1)\n",
        "w2=tf.Variable(int_w2)\n",
        "int_b2= tf.constant(shape=[64],value=0.0)\n",
        "b2=tf.Variable(int_b2)\n",
        "layer2_in=tf.matmul(layer1_out,w2)+b2\n",
        "layer2_out=tf.nn.relu(layer2_in)"
      ],
      "execution_count": 0,
      "outputs": []
    },
    {
      "cell_type": "code",
      "metadata": {
        "id": "fQKPEJ4JjdkO",
        "colab_type": "code",
        "colab": {}
      },
      "source": [
        "# Creating Final Layer of 10 nodes\n",
        "int_w3 = tf.truncated_normal(shape=(64,10),stddev=0.1)\n",
        "w3=tf.Variable(int_w3)\n",
        "int_b3= tf.constant(shape=[10],value=0.0)\n",
        "b3=tf.Variable(int_b3)\n",
        "layer3_in=tf.matmul(layer2_out,w3)+b3\n",
        "layer3_out=tf.nn.softmax(layer3_in)"
      ],
      "execution_count": 0,
      "outputs": []
    },
    {
      "cell_type": "code",
      "metadata": {
        "id": "NdoPdH6_jdkT",
        "colab_type": "code",
        "colab": {}
      },
      "source": [
        "#Defining Loss and Optimizer\n",
        "loss=tf.reduce_mean(tf.nn.softmax_cross_entropy_with_logits_v2(labels=pl2,\n",
        "logits=layer3_out))\n",
        "optimizer = tf.train.AdamOptimizer(0.001)\n",
        "minimizer = optimizer.minimize(loss)\n"
      ],
      "execution_count": 0,
      "outputs": []
    },
    {
      "cell_type": "code",
      "metadata": {
        "id": "5YHQChDqjdkZ",
        "colab_type": "code",
        "colab": {}
      },
      "source": [
        "#Defining Metrics\n",
        "predict=tf.equal(tf.argmax(layer3_out,axis=1),\n",
        "                 tf.argmax(pl2,axis=1))\n",
        "acc=tf.reduce_mean(tf.cast(predict,tf.float32))"
      ],
      "execution_count": 0,
      "outputs": []
    },
    {
      "cell_type": "code",
      "metadata": {
        "id": "uDYa22-kjdke",
        "colab_type": "code",
        "colab": {}
      },
      "source": [
        "# Creating and running sessions\n",
        "sess=tf.Session()\n",
        "init=tf.global_variables_initializer()\n",
        "sess.run(init)"
      ],
      "execution_count": 0,
      "outputs": []
    },
    {
      "cell_type": "code",
      "metadata": {
        "id": "4z-jqY0sjdkj",
        "colab_type": "code",
        "colab": {}
      },
      "source": [
        "#Batching the data in 1000\n",
        "bat_size=1000\n",
        "num_ex=ytrain.shape[0]\n",
        "num_it=int(num_ex/bat_size)\n",
        "flag=0\n",
        "\n"
      ],
      "execution_count": 0,
      "outputs": []
    },
    {
      "cell_type": "code",
      "metadata": {
        "id": "GXkCBU9ujdkp",
        "colab_type": "code",
        "colab": {}
      },
      "source": [
        "def next_bat(size,data,labels):\n",
        "    global num_ex\n",
        "    global flag\n",
        "    start=flag\n",
        "    flag+=size\n",
        "    end=flag\n",
        "    if flag>num_ex:\n",
        "        start=0\n",
        "        flag=size\n",
        "    return data[start:end],labels[start:end]\n",
        "\n",
        "    "
      ],
      "execution_count": 0,
      "outputs": []
    },
    {
      "cell_type": "code",
      "metadata": {
        "id": "t8jtCzQ0jdkv",
        "colab_type": "code",
        "colab": {},
        "outputId": "d80827e8-1d6f-41c4-941c-1940320146f3"
      },
      "source": [
        "# Training the Data\n",
        "epoch=5\n",
        "for n in range(epoch):\n",
        "    for i in range(num_it):\n",
        "        bat_x,bat_y=next_bat(bat_size,xtrain,ytrain)\n",
        "        feed_dct={pl1:bat_x,pl2:bat_y}\n",
        "        sess.run(minimizer,feed_dict=feed_dct)\n",
        "        bat_acc=sess.run(fetches=[acc],feed_dict={pl1:bat_x,pl2:bat_y})\n",
        "    print(f'Epoch {n} /t | Traning Accuracy {bat_acc}')\n",
        "print('Traning Completed')   \n"
      ],
      "execution_count": 0,
      "outputs": [
        {
          "output_type": "stream",
          "text": [
            "Epoch 0 /t | Traning Accuracy [0.955]\n",
            "Epoch 1 /t | Traning Accuracy [0.964]\n",
            "Epoch 2 /t | Traning Accuracy [0.971]\n",
            "Epoch 3 /t | Traning Accuracy [0.973]\n",
            "Epoch 4 /t | Traning Accuracy [0.976]\n",
            "Traning Completed\n"
          ],
          "name": "stdout"
        }
      ]
    },
    {
      "cell_type": "code",
      "metadata": {
        "id": "mLWkv9MYjdk0",
        "colab_type": "code",
        "colab": {}
      },
      "source": [
        "\n",
        "img=Image.open('test_img.png')"
      ],
      "execution_count": 0,
      "outputs": []
    },
    {
      "cell_type": "code",
      "metadata": {
        "id": "3RXIKGR2jdk5",
        "colab_type": "code",
        "colab": {}
      },
      "source": [
        "test_im=img.convert('L')\n",
        "test_ima=np.invert(test_im)\n"
      ],
      "execution_count": 0,
      "outputs": []
    },
    {
      "cell_type": "code",
      "metadata": {
        "id": "GO3vyG3Ijdk-",
        "colab_type": "code",
        "colab": {},
        "outputId": "4a41365b-31e5-4f6d-8506-836abe74abd6"
      },
      "source": [
        "test_ima.shape"
      ],
      "execution_count": 0,
      "outputs": [
        {
          "output_type": "execute_result",
          "data": {
            "text/plain": [
              "(28, 28)"
            ]
          },
          "metadata": {
            "tags": []
          },
          "execution_count": 23
        }
      ]
    },
    {
      "cell_type": "code",
      "metadata": {
        "id": "_1JO1LAujdlD",
        "colab_type": "code",
        "colab": {}
      },
      "source": [
        "test_img=test_ima.ravel()\n"
      ],
      "execution_count": 0,
      "outputs": []
    },
    {
      "cell_type": "code",
      "metadata": {
        "id": "Zu8v8ynLjdlH",
        "colab_type": "code",
        "colab": {},
        "outputId": "cdecfd44-72d3-43e8-92c5-677215c123ea"
      },
      "source": [
        "## Prediction for Our Model\n",
        "prediction=sess.run(fetches=tf.argmax(layer3_out,axis=1),feed_dict={pl1:[test_img]})\n",
        "print(f'Prediction for Image is {prediction}')\n",
        " "
      ],
      "execution_count": 0,
      "outputs": [
        {
          "output_type": "stream",
          "text": [
            "Prediction for Image is [2]\n"
          ],
          "name": "stdout"
        }
      ]
    },
    {
      "cell_type": "code",
      "metadata": {
        "id": "quV6KiukjdlM",
        "colab_type": "code",
        "colab": {}
      },
      "source": [
        ""
      ],
      "execution_count": 0,
      "outputs": []
    }
  ]
}