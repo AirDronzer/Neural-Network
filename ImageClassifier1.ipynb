{
  "nbformat": 4,
  "nbformat_minor": 0,
  "metadata": {
    "colab": {
      "name": "ImageClassifier1.ipynb",
      "provenance": [],
      "authorship_tag": "ABX9TyP+B7ix4eTO1+Ik1n+1LI7Y",
      "include_colab_link": true
    },
    "kernelspec": {
      "name": "python3",
      "display_name": "Python 3"
    }
  },
  "cells": [
    {
      "cell_type": "markdown",
      "metadata": {
        "id": "view-in-github",
        "colab_type": "text"
      },
      "source": [
        "<a href=\"https://colab.research.google.com/github/AirDronzer/keras/blob/master/ImageClassifier1.ipynb\" target=\"_parent\"><img src=\"https://colab.research.google.com/assets/colab-badge.svg\" alt=\"Open In Colab\"/></a>"
      ]
    },
    {
      "cell_type": "code",
      "metadata": {
        "id": "3lVKdcaEstAW",
        "colab_type": "code",
        "colab": {}
      },
      "source": [
        "import numpy as np\n",
        "import tensorflow as tf\n",
        "from tensorflow.keras import backend\n",
        "from tensorflow import keras\n",
        "from IPython.core.display import display\n",
        "from tensorflow.keras.preprocessing.image import load_img,img_to_array\n",
        "from tensorflow.keras.applications.inception_resnet_v2 import InceptionResNetV2,decode_predictions,preprocess_input\n",
        "from tensorflow.python.framework import ops"
      ],
      "execution_count": 0,
      "outputs": []
    },
    {
      "cell_type": "code",
      "metadata": {
        "id": "FoHHRMRAtJuO",
        "colab_type": "code",
        "colab": {}
      },
      "source": [
        "file1='01 Umbrella.jpg'\n",
        "file2='02 Couple.jpg'\n",
        "file3='03 Ocean.jpg'"
      ],
      "execution_count": 0,
      "outputs": []
    },
    {
      "cell_type": "code",
      "metadata": {
        "id": "OXMvW3dQuC7r",
        "colab_type": "code",
        "outputId": "4d4ca904-838b-4f6b-fc4d-39beaba277d0",
        "colab": {
          "base_uri": "https://localhost:8080/",
          "height": 34
        }
      },
      "source": [
        "pic=load_img(file1,target_size=(299,299))\n",
        "arr=img_to_array(pic)\n",
        "expand=np.expand_dims(arr,axis=0)\n",
        "expand.shape\n"
      ],
      "execution_count": 0,
      "outputs": [
        {
          "output_type": "execute_result",
          "data": {
            "text/plain": [
              "(1, 299, 299, 3)"
            ]
          },
          "metadata": {
            "tags": []
          },
          "execution_count": 29
        }
      ]
    },
    {
      "cell_type": "code",
      "metadata": {
        "id": "9liMSc3mu8R1",
        "colab_type": "code",
        "outputId": "679136d4-5f4f-477a-8c56-ef726ad048e1",
        "colab": {
          "base_uri": "https://localhost:8080/",
          "height": 72
        }
      },
      "source": [
        "incp_model=InceptionResNetV2(weights='imagenet')"
      ],
      "execution_count": 0,
      "outputs": [
        {
          "output_type": "stream",
          "text": [
            "Downloading data from https://storage.googleapis.com/tensorflow/keras-applications/inception_resnet_v2/inception_resnet_v2_weights_tf_dim_ordering_tf_kernels.h5\n",
            "225214464/225209952 [==============================] - 5s 0us/step\n"
          ],
          "name": "stdout"
        }
      ]
    },
    {
      "cell_type": "code",
      "metadata": {
        "id": "DmrvKzMVv8MG",
        "colab_type": "code",
        "colab": {}
      },
      "source": [
        "incp_model.graph=ops.get_default_graph()\n",
        "proc=tf.keras.applications.inception_resnet_v2.preprocess_input(expand)"
      ],
      "execution_count": 0,
      "outputs": []
    },
    {
      "cell_type": "code",
      "metadata": {
        "id": "ORwB0CjaxaIt",
        "colab_type": "code",
        "outputId": "317e1b5f-8ac4-41ca-956a-d6bddd7bc740",
        "colab": {
          "base_uri": "https://localhost:8080/",
          "height": 105
        }
      },
      "source": [
        "\n",
        "dec=incp_model.predict(proc)\n",
        "decode_predictions(dec)\n"
      ],
      "execution_count": 0,
      "outputs": [
        {
          "output_type": "execute_result",
          "data": {
            "text/plain": [
              "[[('n04507155', 'umbrella', 0.82924354),\n",
              "  ('n03792972', 'mountain_tent', 0.001226827),\n",
              "  ('n04479046', 'trench_coat', 0.0011062961),\n",
              "  ('n03788195', 'mosque', 0.001057236),\n",
              "  ('n03220513', 'dome', 0.0010310992)]]"
            ]
          },
          "metadata": {
            "tags": []
          },
          "execution_count": 58
        }
      ]
    },
    {
      "cell_type": "markdown",
      "metadata": {
        "id": "9AqkUJMo6r9x",
        "colab_type": "text"
      },
      "source": [
        "# Made a Function to predict Image includes all"
      ]
    },
    {
      "cell_type": "code",
      "metadata": {
        "id": "tFYgYb4o0Iwa",
        "colab_type": "code",
        "colab": {}
      },
      "source": [
        "def image_classifier(filename):\n",
        " pic=load_img(filename,target_size=(299,299))\n",
        " arr=img_to_array(pic)\n",
        " expand=np.expand_dims(arr,axis=0) \n",
        " incp_model.graph=ops.get_default_graph()\n",
        " proc=tf.keras.applications.inception_resnet_v2.preprocess_input(expand) \n",
        " dec=incp_model.predict(proc)\n",
        " return decode_predictions(dec)\n"
      ],
      "execution_count": 0,
      "outputs": []
    },
    {
      "cell_type": "code",
      "metadata": {
        "id": "l7aes9D95ygC",
        "colab_type": "code",
        "outputId": "f1c4c03b-27b2-430e-8dee-2c458222d409",
        "colab": {
          "base_uri": "https://localhost:8080/",
          "height": 105
        }
      },
      "source": [
        "image_classifier(file2)"
      ],
      "execution_count": 0,
      "outputs": [
        {
          "output_type": "execute_result",
          "data": {
            "text/plain": [
              "[[('n10148035', 'groom', 0.70423883),\n",
              "  ('n03450230', 'gown', 0.116695486),\n",
              "  ('n11879895', 'rapeseed', 0.016582672),\n",
              "  ('n09421951', 'sandbar', 0.012790635),\n",
              "  ('n03534580', 'hoopskirt', 0.00728777)]]"
            ]
          },
          "metadata": {
            "tags": []
          },
          "execution_count": 63
        }
      ]
    },
    {
      "cell_type": "code",
      "metadata": {
        "id": "Rlxd9d4l55Tn",
        "colab_type": "code",
        "colab": {}
      },
      "source": [
        ""
      ],
      "execution_count": 0,
      "outputs": []
    }
  ]
}